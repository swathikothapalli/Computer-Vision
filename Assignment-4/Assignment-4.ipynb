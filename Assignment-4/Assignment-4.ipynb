{
 "cells": [
  {
   "cell_type": "code",
   "execution_count": 5,
   "id": "d81650dd",
   "metadata": {},
   "outputs": [],
   "source": [
    "import qrcode\n",
    "\n",
    "im = qrcode.make(\"https://github.com/swathikothapalli/\")\n",
    "im.save(\"qr.png\", \"PNG\")"
   ]
  },
  {
   "cell_type": "code",
   "execution_count": 6,
   "id": "07bdc548",
   "metadata": {},
   "outputs": [
    {
     "name": "stdout",
     "output_type": "stream",
     "text": [
      "Found 0 faces!\n"
     ]
    }
   ],
   "source": [
    "import cv2\n",
    "import pytesseract\n",
    "import webbrowser\n",
    "\n",
    "pytesseract.pytesseract.tesseract_cmd = \"C:\\\\Program Files\\\\Tesseract-OCR\\\\tesseract.exe\"\n",
    "cascPath = r\"C:/Users/swath/OneDrive/Desktop/CV/Assignment_03/face.xml\"\n",
    "faceCascade = cv2.CascadeClassifier(cascPath)\n",
    "\n",
    "image = cv2.imread(\"qr.png\",1)\n",
    "gray = cv2.cvtColor(image, cv2.COLOR_BGR2GRAY)\n",
    "\n",
    "faces = faceCascade.detectMultiScale(\n",
    "    gray,\n",
    "    scaleFactor=1.1,\n",
    "    minNeighbors=5,\n",
    "    minSize=(30, 30),  \n",
    ")\n",
    "\n",
    "print(\"Found {0} faces!\".format(len(faces)))\n",
    "\n",
    "for (x, y, w, h) in faces:\n",
    "    cv2.rectangle(image, (x, y), (x+w, y+h),\n",
    "                  (0, 0, 255), 2)      \n",
    "    faces = image[y:y + h, x:x + w]\n",
    "    cv2.imshow(\"face\",faces)\n",
    "    cv2.imwrite('face.jpg', faces)\n",
    "cv2.imwrite('detcted.jpg', image)\n",
    "\n",
    "ret, thresh1 = cv2.threshold(gray, 0, 255, cv2.THRESH_OTSU | cv2.THRESH_BINARY_INV)\n",
    "rect_kernel = cv2.getStructuringElement(cv2.MORPH_RECT, (18, 18))\n",
    "dilation = cv2.dilate(thresh1, rect_kernel, iterations = 1)\n",
    "contours, hierarchy = cv2.findContours(dilation, cv2.RETR_EXTERNAL,\n",
    "                                                 cv2.CHAIN_APPROX_NONE)\n",
    " \n",
    "image2 = image.copy()\n",
    "file = open(\"information.txt\", \"w+\")\n",
    "file.write(\"\")\n",
    "file.close()\n",
    "for cnt in contours:\n",
    "    x, y, w, h = cv2.boundingRect(cnt)\n",
    "    rect = cv2.rectangle(image2, (x, y), (x + w, y + h), (0, 255, 0), 2)\n",
    "    cropped = image2[y:y + h, x:x + w]\n",
    "    file = open(\"information.txt\", \"a\")\n",
    "    text = pytesseract.image_to_string(cropped)\n",
    "    file.write(text)\n",
    "    file.close\n",
    "\n",
    "\n",
    "detect = cv2.QRCodeDetector()\n",
    "url_data, bbox, straight_qrcode = detect.detectAndDecode(image)\n",
    "if url_data:\n",
    "    webbrowser.open(url_data)\n"
   ]
  },
  {
   "cell_type": "code",
   "execution_count": null,
   "id": "a34d01a1",
   "metadata": {},
   "outputs": [],
   "source": []
  }
 ],
 "metadata": {
  "kernelspec": {
   "display_name": "Python 3 (ipykernel)",
   "language": "python",
   "name": "python3"
  },
  "language_info": {
   "codemirror_mode": {
    "name": "ipython",
    "version": 3
   },
   "file_extension": ".py",
   "mimetype": "text/x-python",
   "name": "python",
   "nbconvert_exporter": "python",
   "pygments_lexer": "ipython3",
   "version": "3.9.12"
  }
 },
 "nbformat": 4,
 "nbformat_minor": 5
}
